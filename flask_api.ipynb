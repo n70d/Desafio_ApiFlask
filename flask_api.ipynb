{
  "nbformat": 4,
  "nbformat_minor": 0,
  "metadata": {
    "colab": {
      "provenance": []
    },
    "kernelspec": {
      "name": "python3",
      "display_name": "Python 3"
    },
    "language_info": {
      "name": "python"
    }
  },
  "cells": [
    {
      "cell_type": "code",
      "execution_count": null,
      "metadata": {
        "id": "5ebu8ur-sXK8"
      },
      "outputs": [],
      "source": [
        "from flask import Flask, jsonify\n",
        "import pandas as pd\n",
        "\n",
        "app = Flask(__name__)\n",
        "tabela = pd.read_excel('Vendas.xlsx')\n",
        "\n",
        "@app.route(\"/\")\n",
        "def fat():\n",
        "    faturamento = tabela['Valor Final'].sum()\n",
        "    return jsonify({\"Faturamento\": float(faturamento)})  # Converte o faturamento para float antes de retornar\n",
        "\n",
        "@app.route(\"/vendas/produtos\")\n",
        "def vendas_produtos():\n",
        "    tabela_vendas_produtos = tabela.groupby(\"Produto\")[\"Valor Final\"].sum().reset_index()\n",
        "    dic_vendas_produtos = tabela_vendas_produtos.set_index(\"Produto\").to_dict()[\"Valor Final\"]\n",
        "    return jsonify(dic_vendas_produtos)\n",
        "\n",
        "@app.route(\"/vendas/produtos/<produto>\")\n",
        "def fat_produto_especifico(produto):\n",
        "    vendas_produto = tabela.groupby(\"Produto\")[\"Valor Final\"].sum()\n",
        "    if produto in vendas_produto.index:\n",
        "        return jsonify({produto: float(vendas_produto.loc[produto])})  # Converte o valor do produto para float antes de retornar\n",
        "    else:\n",
        "        return jsonify({produto: \"Inexistente\"})\n",
        "\n",
        "if __name__ == \"__main__\":\n",
        "    app.run(debug=True)\n"
      ]
    }
  ]
}